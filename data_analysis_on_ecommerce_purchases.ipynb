{
  "nbformat": 4,
  "nbformat_minor": 0,
  "metadata": {
    "colab": {
      "provenance": [],
      "authorship_tag": "ABX9TyNFBiOK2sspECVwFLh33do/",
      "include_colab_link": true
    },
    "kernelspec": {
      "name": "python3",
      "display_name": "Python 3"
    },
    "language_info": {
      "name": "python"
    }
  },
  "cells": [
    {
      "cell_type": "markdown",
      "metadata": {
        "id": "view-in-github",
        "colab_type": "text"
      },
      "source": [
        "<a href=\"https://colab.research.google.com/github/manjeetsrivastava/ecommerce-purchase-exploratory-data-analysis/blob/main/data_analysis_on_ecommerce_purchases.ipynb\" target=\"_parent\"><img src=\"https://colab.research.google.com/assets/colab-badge.svg\" alt=\"Open In Colab\"/></a>"
      ]
    },
    {
      "cell_type": "code",
      "source": [
        "import pandas as pd\n",
        "import numpy as np"
      ],
      "metadata": {
        "id": "jkyUEg4n5Rmf"
      },
      "execution_count": 1,
      "outputs": []
    },
    {
      "cell_type": "code",
      "source": [
        "df = pd.read_csv(\"/content/Ecommerce Purchases\")\n",
        "df.T\n"
      ],
      "metadata": {
        "id": "mwAbe3Cr8o0y"
      },
      "execution_count": null,
      "outputs": []
    },
    {
      "cell_type": "markdown",
      "source": [
        "# 1. CHECK THE FIRST 10 ROWS.\n"
      ],
      "metadata": {
        "id": "wT7kRfNOA485"
      }
    },
    {
      "cell_type": "code",
      "source": [
        "df.head(10)"
      ],
      "metadata": {
        "id": "Gx4myE1r80fI"
      },
      "execution_count": null,
      "outputs": []
    },
    {
      "cell_type": "markdown",
      "source": [
        "# 2. CEHCK THE LAST 10 ROWS\n"
      ],
      "metadata": {
        "id": "sdNnJzA_BCRj"
      }
    },
    {
      "cell_type": "code",
      "source": [
        "df.tail(10)"
      ],
      "metadata": {
        "id": "wyT3oEUXAdDK"
      },
      "execution_count": null,
      "outputs": []
    },
    {
      "cell_type": "markdown",
      "source": [
        "# 3. CHCEKING THE DATATYPE OF EACH COLUMN"
      ],
      "metadata": {
        "id": "O7_bIlFw37Y_"
      }
    },
    {
      "cell_type": "code",
      "source": [
        "df.info()\n",
        "# for checking data type we can also check by typing df.dtype\n",
        "\n"
      ],
      "metadata": {
        "id": "b4oqalKoBQaD"
      },
      "execution_count": null,
      "outputs": []
    },
    {
      "cell_type": "code",
      "source": [
        "df.dtypes"
      ],
      "metadata": {
        "id": "j4JrlSQr33dY"
      },
      "execution_count": null,
      "outputs": []
    },
    {
      "cell_type": "markdown",
      "source": [
        "# 4.CHECK NULL VALUES IN THE DATASET"
      ],
      "metadata": {
        "id": "zxS76nET4Q75"
      }
    },
    {
      "cell_type": "code",
      "source": [
        "df.isnull().sum()"
      ],
      "metadata": {
        "id": "wOO-UdloBYPx"
      },
      "execution_count": null,
      "outputs": []
    },
    {
      "cell_type": "markdown",
      "source": [
        "# 5. HOW MANY ROWS AND COLUMNS IN THE DATASET"
      ],
      "metadata": {
        "id": "y5aoO2zO4gy6"
      }
    },
    {
      "cell_type": "code",
      "source": [
        "df.columns"
      ],
      "metadata": {
        "id": "9b9uzg6dBd25"
      },
      "execution_count": null,
      "outputs": []
    },
    {
      "cell_type": "code",
      "source": [
        "len(df.columns)"
      ],
      "metadata": {
        "colab": {
          "base_uri": "https://localhost:8080/"
        },
        "id": "4vXiBxGPBmSZ",
        "outputId": "7a5e674b-2e43-4db3-d659-9f646bf3e603"
      },
      "execution_count": null,
      "outputs": [
        {
          "output_type": "execute_result",
          "data": {
            "text/plain": [
              "14"
            ]
          },
          "metadata": {},
          "execution_count": 22
        }
      ]
    },
    {
      "cell_type": "code",
      "source": [
        "len(df.index)\n",
        "# HERE YOU CAN ALSO CHECK IT BY DF.INFO() .INFO()METHOD SHOWS TOTALNO OF ENTRIES"
      ],
      "metadata": {
        "colab": {
          "base_uri": "https://localhost:8080/"
        },
        "id": "lCMNHgb7BuzB",
        "outputId": "6d9eaad8-09c3-4796-a0bc-fb2cbe7eb7dd"
      },
      "execution_count": null,
      "outputs": [
        {
          "output_type": "execute_result",
          "data": {
            "text/plain": [
              "10000"
            ]
          },
          "metadata": {},
          "execution_count": 24
        }
      ]
    },
    {
      "cell_type": "markdown",
      "source": [
        "# 6.HIGHEST AND LOWEST PRICES"
      ],
      "metadata": {
        "id": "rlOZV8o449I6"
      }
    },
    {
      "cell_type": "code",
      "source": [
        "df['Purchase Price'].max()"
      ],
      "metadata": {
        "colab": {
          "base_uri": "https://localhost:8080/"
        },
        "id": "HGv3sf0IB34C",
        "outputId": "16b12bd4-4546-4b72-cc9a-597e76177925"
      },
      "execution_count": null,
      "outputs": [
        {
          "output_type": "execute_result",
          "data": {
            "text/plain": [
              "99.99"
            ]
          },
          "metadata": {},
          "execution_count": 27
        }
      ]
    },
    {
      "cell_type": "code",
      "source": [
        "df['Purchase Price'].min()"
      ],
      "metadata": {
        "colab": {
          "base_uri": "https://localhost:8080/"
        },
        "id": "xGb4A97rCLGL",
        "outputId": "7a69f61d-3a64-48cc-c740-a9b558b391fc"
      },
      "execution_count": null,
      "outputs": [
        {
          "output_type": "execute_result",
          "data": {
            "text/plain": [
              "0.0"
            ]
          },
          "metadata": {},
          "execution_count": 28
        }
      ]
    },
    {
      "cell_type": "markdown",
      "source": [
        "# 7. AVERAGE PURCHASE PRICE"
      ],
      "metadata": {
        "id": "ajA7GWx05dVC"
      }
    },
    {
      "cell_type": "code",
      "source": [
        "df['Purchase Price'].mean()"
      ],
      "metadata": {
        "colab": {
          "base_uri": "https://localhost:8080/"
        },
        "id": "F1J131o4CsbC",
        "outputId": "13c33340-bc98-4c29-8394-02c2a16b7a7a"
      },
      "execution_count": null,
      "outputs": [
        {
          "output_type": "execute_result",
          "data": {
            "text/plain": [
              "50.347302"
            ]
          },
          "metadata": {},
          "execution_count": 30
        }
      ]
    },
    {
      "cell_type": "markdown",
      "source": [
        "# 8. HOW MANY PEOPLE HAVE FRENCH 'FR' AS THEIR LANGUAGE"
      ],
      "metadata": {
        "id": "_YJTrKgQ5oHi"
      }
    },
    {
      "cell_type": "code",
      "source": [
        "len(df[df['Language']=='fr'])\n",
        "# here we can also use count method for the counting of people who have language as france\n",
        "# ex: - df[df['language']== 'fr'].count()"
      ],
      "metadata": {
        "colab": {
          "base_uri": "https://localhost:8080/"
        },
        "id": "8b7WDsKDC1vi",
        "outputId": "4101ecd8-eb36-4d0b-835c-3d6000d305d0"
      },
      "execution_count": null,
      "outputs": [
        {
          "output_type": "execute_result",
          "data": {
            "text/plain": [
              "1097"
            ]
          },
          "metadata": {},
          "execution_count": 34
        }
      ]
    },
    {
      "cell_type": "markdown",
      "source": [
        "# 9. JOB TITLE THAT CONTAIN ENGINEER"
      ],
      "metadata": {
        "id": "l_yU59wG55ei"
      }
    },
    {
      "cell_type": "code",
      "source": [
        "df['Job']=='Engineer'"
      ],
      "metadata": {
        "id": "tSLwkHvRDD9C"
      },
      "execution_count": null,
      "outputs": []
    },
    {
      "cell_type": "code",
      "source": [
        "df[df['Job'] == 'Engineer']"
      ],
      "metadata": {
        "colab": {
          "base_uri": "https://localhost:8080/",
          "height": 111
        },
        "id": "ZqbzSwqGDuC4",
        "outputId": "06a8ca17-a100-47e9-f8d4-74a31bb244d5"
      },
      "execution_count": null,
      "outputs": [
        {
          "output_type": "execute_result",
          "data": {
            "text/plain": [
              "Empty DataFrame\n",
              "Columns: [Address, Lot, AM or PM, Browser Info, Company, Credit Card, CC Exp Date, CC Security Code, CC Provider, Email, Job, IP Address, Language, Purchase Price]\n",
              "Index: []"
            ],
            "text/html": [
              "\n",
              "  <div id=\"df-07709f8b-3ddd-4371-92c6-2c6d77e407b2\">\n",
              "    <div class=\"colab-df-container\">\n",
              "      <div>\n",
              "<style scoped>\n",
              "    .dataframe tbody tr th:only-of-type {\n",
              "        vertical-align: middle;\n",
              "    }\n",
              "\n",
              "    .dataframe tbody tr th {\n",
              "        vertical-align: top;\n",
              "    }\n",
              "\n",
              "    .dataframe thead th {\n",
              "        text-align: right;\n",
              "    }\n",
              "</style>\n",
              "<table border=\"1\" class=\"dataframe\">\n",
              "  <thead>\n",
              "    <tr style=\"text-align: right;\">\n",
              "      <th></th>\n",
              "      <th>Address</th>\n",
              "      <th>Lot</th>\n",
              "      <th>AM or PM</th>\n",
              "      <th>Browser Info</th>\n",
              "      <th>Company</th>\n",
              "      <th>Credit Card</th>\n",
              "      <th>CC Exp Date</th>\n",
              "      <th>CC Security Code</th>\n",
              "      <th>CC Provider</th>\n",
              "      <th>Email</th>\n",
              "      <th>Job</th>\n",
              "      <th>IP Address</th>\n",
              "      <th>Language</th>\n",
              "      <th>Purchase Price</th>\n",
              "    </tr>\n",
              "  </thead>\n",
              "  <tbody>\n",
              "  </tbody>\n",
              "</table>\n",
              "</div>\n",
              "      <button class=\"colab-df-convert\" onclick=\"convertToInteractive('df-07709f8b-3ddd-4371-92c6-2c6d77e407b2')\"\n",
              "              title=\"Convert this dataframe to an interactive table.\"\n",
              "              style=\"display:none;\">\n",
              "        \n",
              "  <svg xmlns=\"http://www.w3.org/2000/svg\" height=\"24px\"viewBox=\"0 0 24 24\"\n",
              "       width=\"24px\">\n",
              "    <path d=\"M0 0h24v24H0V0z\" fill=\"none\"/>\n",
              "    <path d=\"M18.56 5.44l.94 2.06.94-2.06 2.06-.94-2.06-.94-.94-2.06-.94 2.06-2.06.94zm-11 1L8.5 8.5l.94-2.06 2.06-.94-2.06-.94L8.5 2.5l-.94 2.06-2.06.94zm10 10l.94 2.06.94-2.06 2.06-.94-2.06-.94-.94-2.06-.94 2.06-2.06.94z\"/><path d=\"M17.41 7.96l-1.37-1.37c-.4-.4-.92-.59-1.43-.59-.52 0-1.04.2-1.43.59L10.3 9.45l-7.72 7.72c-.78.78-.78 2.05 0 2.83L4 21.41c.39.39.9.59 1.41.59.51 0 1.02-.2 1.41-.59l7.78-7.78 2.81-2.81c.8-.78.8-2.07 0-2.86zM5.41 20L4 18.59l7.72-7.72 1.47 1.35L5.41 20z\"/>\n",
              "  </svg>\n",
              "      </button>\n",
              "      \n",
              "  <style>\n",
              "    .colab-df-container {\n",
              "      display:flex;\n",
              "      flex-wrap:wrap;\n",
              "      gap: 12px;\n",
              "    }\n",
              "\n",
              "    .colab-df-convert {\n",
              "      background-color: #E8F0FE;\n",
              "      border: none;\n",
              "      border-radius: 50%;\n",
              "      cursor: pointer;\n",
              "      display: none;\n",
              "      fill: #1967D2;\n",
              "      height: 32px;\n",
              "      padding: 0 0 0 0;\n",
              "      width: 32px;\n",
              "    }\n",
              "\n",
              "    .colab-df-convert:hover {\n",
              "      background-color: #E2EBFA;\n",
              "      box-shadow: 0px 1px 2px rgba(60, 64, 67, 0.3), 0px 1px 3px 1px rgba(60, 64, 67, 0.15);\n",
              "      fill: #174EA6;\n",
              "    }\n",
              "\n",
              "    [theme=dark] .colab-df-convert {\n",
              "      background-color: #3B4455;\n",
              "      fill: #D2E3FC;\n",
              "    }\n",
              "\n",
              "    [theme=dark] .colab-df-convert:hover {\n",
              "      background-color: #434B5C;\n",
              "      box-shadow: 0px 1px 3px 1px rgba(0, 0, 0, 0.15);\n",
              "      filter: drop-shadow(0px 1px 2px rgba(0, 0, 0, 0.3));\n",
              "      fill: #FFFFFF;\n",
              "    }\n",
              "  </style>\n",
              "\n",
              "      <script>\n",
              "        const buttonEl =\n",
              "          document.querySelector('#df-07709f8b-3ddd-4371-92c6-2c6d77e407b2 button.colab-df-convert');\n",
              "        buttonEl.style.display =\n",
              "          google.colab.kernel.accessAllowed ? 'block' : 'none';\n",
              "\n",
              "        async function convertToInteractive(key) {\n",
              "          const element = document.querySelector('#df-07709f8b-3ddd-4371-92c6-2c6d77e407b2');\n",
              "          const dataTable =\n",
              "            await google.colab.kernel.invokeFunction('convertToInteractive',\n",
              "                                                     [key], {});\n",
              "          if (!dataTable) return;\n",
              "\n",
              "          const docLinkHtml = 'Like what you see? Visit the ' +\n",
              "            '<a target=\"_blank\" href=https://colab.research.google.com/notebooks/data_table.ipynb>data table notebook</a>'\n",
              "            + ' to learn more about interactive tables.';\n",
              "          element.innerHTML = '';\n",
              "          dataTable['output_type'] = 'display_data';\n",
              "          await google.colab.output.renderOutput(dataTable, element);\n",
              "          const docLink = document.createElement('div');\n",
              "          docLink.innerHTML = docLinkHtml;\n",
              "          element.appendChild(docLink);\n",
              "        }\n",
              "      </script>\n",
              "    </div>\n",
              "  </div>\n",
              "  "
            ]
          },
          "metadata": {},
          "execution_count": 42
        }
      ]
    },
    {
      "cell_type": "code",
      "source": [
        "df['Job'].unique()"
      ],
      "metadata": {
        "id": "2nmGf1VvEHEw"
      },
      "execution_count": null,
      "outputs": []
    },
    {
      "cell_type": "markdown",
      "source": [
        "# 10. FIND EMAIL OF TH PERSON WITH THE FOLLOWING I.P. ADDRESS '132.207.160.22'"
      ],
      "metadata": {
        "id": "UVBwPAiW6MRE"
      }
    },
    {
      "cell_type": "code",
      "source": [
        "df[df['IP Address'] == '132.207.160.22']['Email']"
      ],
      "metadata": {
        "colab": {
          "base_uri": "https://localhost:8080/"
        },
        "id": "A5rqMbtXEKbb",
        "outputId": "e14db491-6ab1-40a5-c7f5-68d77816cc80"
      },
      "execution_count": null,
      "outputs": [
        {
          "output_type": "execute_result",
          "data": {
            "text/plain": [
              "2    amymiller@morales-harrison.com\n",
              "Name: Email, dtype: object"
            ]
          },
          "metadata": {},
          "execution_count": 47
        }
      ]
    },
    {
      "cell_type": "markdown",
      "source": [
        "# 11.HOW MANY PEOPLE HAVE MASTERCARD AS THEIR CREDIT CARD PROVIDER AND MAKE A PURCHASE ABOVE 60?"
      ],
      "metadata": {
        "id": "PCfRjysu6s4S"
      }
    },
    {
      "cell_type": "code",
      "source": [
        "df[df['CC Provider'] == \"Mastercard\"]"
      ],
      "metadata": {
        "id": "NqQAeR9GFD1v"
      },
      "execution_count": null,
      "outputs": []
    },
    {
      "cell_type": "code",
      "source": [
        "len(df[df['CC Provider']=='Mastercard'])"
      ],
      "metadata": {
        "colab": {
          "base_uri": "https://localhost:8080/"
        },
        "id": "NLUSROLWFu0f",
        "outputId": "496cd00c-1296-4803-a5fb-268a447f678f"
      },
      "execution_count": null,
      "outputs": [
        {
          "output_type": "execute_result",
          "data": {
            "text/plain": [
              "816"
            ]
          },
          "metadata": {},
          "execution_count": 53
        }
      ]
    },
    {
      "cell_type": "code",
      "source": [
        "df[(df['CC Provider']== 'Mastercard') & (df['Purchase Price']>60)].count()"
      ],
      "metadata": {
        "colab": {
          "base_uri": "https://localhost:8080/"
        },
        "id": "PpjfVFhSF1YG",
        "outputId": "d5fbb97d-fceb-46ac-c731-7a1cc9800ab5"
      },
      "execution_count": 18,
      "outputs": [
        {
          "output_type": "execute_result",
          "data": {
            "text/plain": [
              "Address             139\n",
              "Lot                 139\n",
              "AM or PM            139\n",
              "Browser Info        139\n",
              "Company             139\n",
              "Credit Card         139\n",
              "CC Exp Date         139\n",
              "CC Security Code    139\n",
              "CC Provider         139\n",
              "Email               139\n",
              "Job                 139\n",
              "IP Address          139\n",
              "Language            139\n",
              "Purchase Price      139\n",
              "Temp                139\n",
              "dtype: int64"
            ]
          },
          "metadata": {},
          "execution_count": 18
        }
      ]
    },
    {
      "cell_type": "code",
      "source": [
        "'''\n",
        "we can also solve the above question as:=\n",
        "\n",
        "df[(df['CC Type'] = 'Mastercard')  \\\n",
        "          & (df['Purchase Price']>60)].count()\n",
        "\n",
        "'''\n"
      ],
      "metadata": {
        "colab": {
          "base_uri": "https://localhost:8080/",
          "height": 0
        },
        "id": "D6t2L8rxDduA",
        "outputId": "b0018212-4379-4bb3-978e-21c895045696"
      },
      "execution_count": 5,
      "outputs": [
        {
          "output_type": "execute_result",
          "data": {
            "text/plain": [
              "\"\\nwe can also solve the above question as:=\\n\\ndf[(df['CC Type'] = 'Mastercard')            & (df['Purchase Price']>60)]\\n\\n\""
            ],
            "application/vnd.google.colaboratory.intrinsic+json": {
              "type": "string"
            }
          },
          "metadata": {},
          "execution_count": 5
        }
      ]
    },
    {
      "cell_type": "markdown",
      "source": [
        "# 12.FIND EMAIL OF THE PERSON WITH THE FOLLOWING CREDIT CARD NUMBER '4664825258997302'"
      ],
      "metadata": {
        "id": "u_fSt-bw7sH7"
      }
    },
    {
      "cell_type": "code",
      "source": [
        "df[df['Credit Card'] == 4664825258997302]['Email']"
      ],
      "metadata": {
        "colab": {
          "base_uri": "https://localhost:8080/"
        },
        "id": "5sUU_ajYG5cQ",
        "outputId": "2a4ee5fe-4cf2-4a04-d054-5f74ee71941b"
      },
      "execution_count": null,
      "outputs": [
        {
          "output_type": "execute_result",
          "data": {
            "text/plain": [
              "9992    bberry@wright.net\n",
              "Name: Email, dtype: object"
            ]
          },
          "metadata": {},
          "execution_count": 59
        }
      ]
    },
    {
      "cell_type": "markdown",
      "source": [
        "# 13. HOW MANY PEOPLE HAVE PURCHASED DURING A.M. OR P.M.? "
      ],
      "metadata": {
        "id": "KE2gWbSh7xkn"
      }
    },
    {
      "cell_type": "code",
      "source": [
        "df['AM or PM'].value_counts()"
      ],
      "metadata": {
        "colab": {
          "base_uri": "https://localhost:8080/"
        },
        "id": "-0Vm3LXaHFfT",
        "outputId": "41aeac4e-60f7-497c-f62d-c0275da70bf1"
      },
      "execution_count": null,
      "outputs": [
        {
          "output_type": "execute_result",
          "data": {
            "text/plain": [
              "PM    5068\n",
              "AM    4932\n",
              "Name: AM or PM, dtype: int64"
            ]
          },
          "metadata": {},
          "execution_count": 64
        }
      ]
    },
    {
      "cell_type": "markdown",
      "source": [
        "# 14. HOW MANY PEOPLE HAVE CREDIT CARD THAT EXPIRES IN 2020?"
      ],
      "metadata": {
        "id": "jIjt3XxDV3R-"
      }
    },
    {
      "cell_type": "code",
      "source": [
        "df['CC Exp Date']"
      ],
      "metadata": {
        "id": "zWG723GjHzY8",
        "colab": {
          "base_uri": "https://localhost:8080/"
        },
        "outputId": "087df9a8-95be-44c8-9c6b-a9b69a988da2"
      },
      "execution_count": 11,
      "outputs": [
        {
          "output_type": "execute_result",
          "data": {
            "text/plain": [
              "0       02/20\n",
              "1       11/18\n",
              "2       08/19\n",
              "3       02/24\n",
              "4       10/25\n",
              "        ...  \n",
              "9995    03/22\n",
              "9996    07/25\n",
              "9997    05/21\n",
              "9998    11/17\n",
              "9999    02/19\n",
              "Name: CC Exp Date, Length: 10000, dtype: object"
            ]
          },
          "metadata": {},
          "execution_count": 11
        }
      ]
    },
    {
      "cell_type": "code",
      "source": [
        "# first method to calculate total no of people whose card expires in 2020 i.e; by creating own function\n",
        "def fun():\n",
        "  count = 0\n",
        "  for date in df['CC Exp Date']:\n",
        "    if date.split('/')[1] == '20':\n",
        "      count = count +1\n",
        "  print(count)    "
      ],
      "metadata": {
        "id": "5bKLWgssWLRH"
      },
      "execution_count": 12,
      "outputs": []
    },
    {
      "cell_type": "code",
      "source": [
        "fun()"
      ],
      "metadata": {
        "colab": {
          "base_uri": "https://localhost:8080/"
        },
        "id": "bw0jWMuvX3To",
        "outputId": "f516b536-6e58-4bd1-ff47-dbab505232d7"
      },
      "execution_count": 13,
      "outputs": [
        {
          "output_type": "stream",
          "name": "stdout",
          "text": [
            "988\n"
          ]
        }
      ]
    },
    {
      "cell_type": "code",
      "source": [
        "# Another method for finding the total no  of people whose cards expires in 2020 i.e; by using lambda function\n",
        "df[df['CC Exp Date'].apply(lambda x:x[3:] =='20' )].count()\n",
        "# here we can use count method or len method to find the total number of people \n",
        "# len(df[df['CC Exp Date'].apply(lambda x : x[3:] == '20')]) "
      ],
      "metadata": {
        "colab": {
          "base_uri": "https://localhost:8080/"
        },
        "id": "TOZImVLlYVFV",
        "outputId": "4c06658f-ce22-4f6e-8555-5a7a3772505f"
      },
      "execution_count": 16,
      "outputs": [
        {
          "output_type": "execute_result",
          "data": {
            "text/plain": [
              "Address             988\n",
              "Lot                 988\n",
              "AM or PM            988\n",
              "Browser Info        988\n",
              "Company             988\n",
              "Credit Card         988\n",
              "CC Exp Date         988\n",
              "CC Security Code    988\n",
              "CC Provider         988\n",
              "Email               988\n",
              "Job                 988\n",
              "IP Address          988\n",
              "Language            988\n",
              "Purchase Price      988\n",
              "dtype: int64"
            ]
          },
          "metadata": {},
          "execution_count": 16
        }
      ]
    },
    {
      "cell_type": "code",
      "source": [
        "len(df[df['CC Exp Date'].apply(lambda x : x[3:] == '20')])"
      ],
      "metadata": {
        "colab": {
          "base_uri": "https://localhost:8080/"
        },
        "id": "7J6o4_lMYVnl",
        "outputId": "1be50d6c-fc83-480d-eb7d-2eaca324b799"
      },
      "execution_count": 18,
      "outputs": [
        {
          "output_type": "execute_result",
          "data": {
            "text/plain": [
              "988"
            ]
          },
          "metadata": {},
          "execution_count": 18
        }
      ]
    },
    {
      "cell_type": "markdown",
      "source": [
        "# 15. THE MOST POPULAR EMAIL PROVIDER (E.G; YAHOO.COM , GOOGLE.COM)"
      ],
      "metadata": {
        "id": "NcZ6LSKUZ9U_"
      }
    },
    {
      "cell_type": "code",
      "source": [
        "# first method\n",
        "list1 = [] # creating empty list\n",
        "for email in df['Email']:\n",
        "   email.split('@')\n",
        "   list1.append(email.split('@')[1]) \n",
        "\n",
        "list1"
      ],
      "metadata": {
        "id": "YPV3hWK-Z588"
      },
      "execution_count": null,
      "outputs": []
    },
    {
      "cell_type": "code",
      "source": [
        "df['Temp'] = list1\n",
        "df.T"
      ],
      "metadata": {
        "id": "3UZuXhh6xSnv"
      },
      "execution_count": null,
      "outputs": []
    },
    {
      "cell_type": "code",
      "source": [
        "df['Temp'].value_counts().head(5)"
      ],
      "metadata": {
        "colab": {
          "base_uri": "https://localhost:8080/"
        },
        "id": "60_Ea_Lwxuzr",
        "outputId": "eaf4d92f-595a-415b-a18f-5f76f9294f1f"
      },
      "execution_count": 11,
      "outputs": [
        {
          "output_type": "execute_result",
          "data": {
            "text/plain": [
              "yahoo.com      647\n",
              "hotmail.com    635\n",
              "gmail.com      585\n",
              "smith.com       14\n",
              "johnson.com     12\n",
              "Name: Temp, dtype: int64"
            ]
          },
          "metadata": {},
          "execution_count": 11
        }
      ]
    },
    {
      "cell_type": "code",
      "source": [],
      "metadata": {
        "id": "JXDeJDrrxuxy"
      },
      "execution_count": null,
      "outputs": []
    }
  ]
}